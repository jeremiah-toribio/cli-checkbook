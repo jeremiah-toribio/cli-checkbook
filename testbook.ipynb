{
 "cells": [
  {
   "cell_type": "code",
   "execution_count": 52,
   "metadata": {},
   "outputs": [
    {
     "name": "stdout",
     "output_type": "stream",
     "text": [
      "  ___________________________________________________  \n",
      " | Welcome to Scoopa bank | Access your account here | \n",
      "  --------------------------------------------------- \n",
      " | Please type 1-4 to select their respective option.| \n",
      " |            What would you like to do?             | \n",
      " |___________________________________________________|\n"
     ]
    }
   ],
   "source": [
    "#---------------------------------------------------\n",
    "# ___________________________________________________\n",
    "print(f'  ___________________________________________________  \\n | Welcome to Scoopa bank | Access your account here | \\n  --------------------------------------------------- \\n | Please type 1-4 to select their respective option.| \\n |            What would you like to do?             | \\n |___________________________________________________|')"
   ]
  },
  {
   "cell_type": "code",
   "execution_count": 11,
   "metadata": {},
   "outputs": [],
   "source": [
    "def user1():\n",
    "    \n",
    "    return\n",
    "def user2():\n",
    "    return\n",
    "def user3():\n",
    "    return\n",
    "def user4():\n",
    "    return"
   ]
  },
  {
   "cell_type": "code",
   "execution_count": 58,
   "metadata": {},
   "outputs": [],
   "source": [
    "options = [1,2,3,4]\n",
    "user_input = input(f' [ 1 ] View current balance \\n [ 2 ] Record a Debit (Deposit) \\n [ 3 ] Record a Credit (Withdrawal) \\n [ 4 ] Exit')\n"
   ]
  },
  {
   "cell_type": "code",
   "execution_count": 53,
   "metadata": {},
   "outputs": [
    {
     "name": "stdout",
     "output_type": "stream",
     "text": [
      "Please select only a digit that is an option.\n",
      "Please select only a digit that is an option.\n",
      "Please select only a digit that is an option.\n",
      "Please select only a digit that is an option.\n"
     ]
    }
   ],
   "source": [
    "for user_input in options:\n",
    "    if user_input in options:\n",
    "        print('Please select only a digit that is an option.')\n",
    "    elif user_input == 1:\n",
    "        user1()\n",
    "        break\n",
    "    elif user_input == 2:\n",
    "        user2()\n",
    "    elif user_input == 3:\n",
    "        user3()\n",
    "    elif user_input == 4:\n",
    "        user4()\n",
    "    else:\n",
    "        break"
   ]
  },
  {
   "cell_type": "code",
   "execution_count": null,
   "metadata": {},
   "outputs": [],
   "source": []
  }
 ],
 "metadata": {
  "kernelspec": {
   "display_name": "codeup",
   "language": "python",
   "name": "python3"
  },
  "language_info": {
   "codemirror_mode": {
    "name": "ipython",
    "version": 3
   },
   "file_extension": ".py",
   "mimetype": "text/x-python",
   "name": "python",
   "nbconvert_exporter": "python",
   "pygments_lexer": "ipython3",
   "version": "3.11.4"
  },
  "orig_nbformat": 4
 },
 "nbformat": 4,
 "nbformat_minor": 2
}
