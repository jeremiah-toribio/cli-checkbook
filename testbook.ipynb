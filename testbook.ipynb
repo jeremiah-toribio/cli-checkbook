{
 "cells": [
  {
   "cell_type": "code",
   "execution_count": 89,
   "metadata": {},
   "outputs": [
    {
     "name": "stdout",
     "output_type": "stream",
     "text": [
      "  ___________________________________________________  \n",
      " | Welcome to Floppa bank | Access your account here | \n",
      "  --------------------------------------------------- \n",
      " | Please type 1-4 to select their respective option.| \n",
      " |            What would you like to do?             | \n",
      " |___________________________________________________|\n",
      " [ 1 ] View current balance \n",
      " [ 2 ] Record a Debit (Deposit) \n",
      " [ 3 ] Record a Credit (Withdrawal) \n",
      " [ 4 ] Exit\n"
     ]
    }
   ],
   "source": [
    "#---------------------------------------------------\n",
    "# ___________________________________________________\n",
    "print(f'  ___________________________________________________  \\n | Welcome to Floppa bank | Access your account here | \\n  --------------------------------------------------- \\n | Please type 1-4 to select their respective option.| \\n |            What would you like to do?             | \\n |___________________________________________________|')\n",
    "print(f' [ 1 ] View current balance \\n [ 2 ] Record a Debit (Deposit) \\n [ 3 ] Record a Credit (Withdrawal) \\n [ 4 ] Exit')"
   ]
  },
  {
   "cell_type": "code",
   "execution_count": null,
   "metadata": {},
   "outputs": [],
   "source": [
    "class Transactions:\n",
    "    balance = {}\n",
    "\n",
    "    def __init__()\n",
    "\n"
   ]
  },
  {
   "cell_type": "code",
   "execution_count": 91,
   "metadata": {},
   "outputs": [],
   "source": [
    "def user1():\n",
    "    account_balance = ''\n",
    "    print(f'Your current balance is: {account_balance}')\n",
    "    return\n",
    "\n",
    "def user2():\n",
    "    return\n",
    "\n",
    "def user3():\n",
    "    return\n",
    "\n",
    "def user4():\n",
    "    print('Thanks for banking with big floppa')\n",
    "    return exit()"
   ]
  },
  {
   "cell_type": "code",
   "execution_count": 76,
   "metadata": {},
   "outputs": [],
   "source": [
    "user_input = str(input())"
   ]
  },
  {
   "cell_type": "code",
   "execution_count": 92,
   "metadata": {},
   "outputs": [
    {
     "ename": "KeyboardInterrupt",
     "evalue": "",
     "output_type": "error",
     "traceback": [
      "\u001b[0;31m---------------------------------------------------------------------------\u001b[0m",
      "\u001b[0;31mKeyboardInterrupt\u001b[0m                         Traceback (most recent call last)",
      "Cell \u001b[0;32mIn[92], line 14\u001b[0m\n\u001b[1;32m     12\u001b[0m     user2()\n\u001b[1;32m     13\u001b[0m \u001b[39melif\u001b[39;00m user_input \u001b[39m==\u001b[39m \u001b[39m'\u001b[39m\u001b[39m3\u001b[39m\u001b[39m'\u001b[39m:\n\u001b[0;32m---> 14\u001b[0m     user3()\n\u001b[1;32m     15\u001b[0m \u001b[39melif\u001b[39;00m user_input \u001b[39m==\u001b[39m \u001b[39m'\u001b[39m\u001b[39m4\u001b[39m\u001b[39m'\u001b[39m:\n\u001b[1;32m     16\u001b[0m     user4()\n",
      "Cell \u001b[0;32mIn[91], line 9\u001b[0m, in \u001b[0;36muser3\u001b[0;34m()\u001b[0m\n\u001b[1;32m      6\u001b[0m \u001b[39mdef\u001b[39;00m \u001b[39muser2\u001b[39m():\n\u001b[1;32m      7\u001b[0m     \u001b[39mreturn\u001b[39;00m\n\u001b[0;32m----> 9\u001b[0m \u001b[39mdef\u001b[39;00m \u001b[39muser3\u001b[39m():\n\u001b[1;32m     10\u001b[0m     \u001b[39mreturn\u001b[39;00m\n\u001b[1;32m     12\u001b[0m \u001b[39mdef\u001b[39;00m \u001b[39muser4\u001b[39m():\n",
      "\u001b[0;31mKeyboardInterrupt\u001b[0m: "
     ]
    }
   ],
   "source": [
    "options = ['1','2','3','4']\n",
    "attempts = 3\n",
    "\n",
    "while attempts != 0:\n",
    "    if user_input.isdigit() == True:\n",
    "        if user_input not in options:\n",
    "            attempts -= 1\n",
    "            print('Please select only a digit that is an option.')\n",
    "        elif user_input == '1':\n",
    "            user1()\n",
    "        elif user_input == '2':\n",
    "            user2()\n",
    "        elif user_input == '3':\n",
    "            user3()\n",
    "        elif user_input == '4':\n",
    "            user4()\n",
    "        else:\n",
    "            print('Only numbers.')\n",
    "    else:\n",
    "        print('Only digits.')\n",
    "        attempts -= 1\n",
    "        \n"
   ]
  },
  {
   "cell_type": "code",
   "execution_count": 93,
   "metadata": {},
   "outputs": [],
   "source": [
    "def user2():\n",
    "    print(f'\\nHow much would you like to deposit today? Exact amounts only.')\n",
    "    deposit = int(input())\n",
    "    attempts2 = 3\n",
    "    while attempts2 != 0:\n",
    "        if type(deposit) == type(1):\n",
    "            new_balance_deb = deposit + account_balance\n",
    "            print(f'{new_balance_deb} is your new total balance.')\n",
    "        else:\n",
    "            (f'Please input only numbers.\\nYou have {attempts2} attempts left.')\n",
    "            attempts2 -= 1\n",
    "    print('\\nWould you like to return to menu?\\n Please enter, y or n')\n",
    "    menu2 = str(input())\n",
    "    #if menu2\n",
    "    if menu2 == 'y':\n",
    "        return main_menu()\n",
    "    elif menu2 == 'n':\n",
    "        exiter()\n",
    "    return"
   ]
  },
  {
   "cell_type": "code",
   "execution_count": 98,
   "metadata": {},
   "outputs": [
    {
     "data": {
      "text/plain": [
       "'Thu Jul 20 11:34:52 2023'"
      ]
     },
     "execution_count": 98,
     "metadata": {},
     "output_type": "execute_result"
    }
   ],
   "source": [
    "import time\n",
    "time.ctime()"
   ]
  },
  {
   "cell_type": "code",
   "execution_count": 99,
   "metadata": {},
   "outputs": [],
   "source": [
    "import csv"
   ]
  },
  {
   "cell_type": "code",
   "execution_count": 104,
   "metadata": {},
   "outputs": [],
   "source": [
    "columns = ['time','type','amount','balance']\n",
    "\n",
    "with open('account.csv', 'r') as f:\n",
    "    content = csv.DictReader(f, fieldnames=columns)\n",
    "    lines = []\n",
    "    for line in content:\n",
    "        lines.append(line)"
   ]
  },
  {
   "cell_type": "code",
   "execution_count": 105,
   "metadata": {},
   "outputs": [
    {
     "name": "stdout",
     "output_type": "stream",
     "text": [
      "[{'time': 'time', 'type': 'type', 'amount': 'amount', 'balance': 'balance'}, {'time': 'Thu Jul 20 11:54:27 2023', 'type': 'Debit', 'amount': '120', 'balance': '120'}, {'time': 'time', 'type': 'type', 'amount': 'amount', 'balance': 'balance'}, {'time': 'Thu Jul 20 11:57:29 2023', 'type': 'Debit', 'amount': '100', 'balance': '100'}, {'time': 'time', 'type': 'type', 'amount': 'amount', 'balance': 'balance'}, {'time': 'Thu Jul 20 11:57:34 2023', 'type': 'Debit', 'amount': '100', 'balance': '100'}, {'time': 'time', 'type': 'type', 'amount': 'amount', 'balance': 'balance'}, {'time': 'Thu Jul 20 11:57:39 2023', 'type': 'Debit', 'amount': '120', 'balance': '120'}, {'time': 'Thu Jul 20 13:39:49 2023', 'type': 'Debit', 'amount': '1002', 'balance': '1002'}, {'time': 'Thu Jul 20 13:39:59 2023', 'type': 'Debit', 'amount': '100', 'balance': '100'}]\n"
     ]
    }
   ],
   "source": [
    "print(lines)"
   ]
  },
  {
   "cell_type": "code",
   "execution_count": null,
   "metadata": {},
   "outputs": [],
   "source": []
  }
 ],
 "metadata": {
  "kernelspec": {
   "display_name": "codeup",
   "language": "python",
   "name": "python3"
  },
  "language_info": {
   "codemirror_mode": {
    "name": "ipython",
    "version": 3
   },
   "file_extension": ".py",
   "mimetype": "text/x-python",
   "name": "python",
   "nbconvert_exporter": "python",
   "pygments_lexer": "ipython3",
   "version": "3.11.4"
  },
  "orig_nbformat": 4
 },
 "nbformat": 4,
 "nbformat_minor": 2
}
